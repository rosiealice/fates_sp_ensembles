{
 "cells": [
  {
   "cell_type": "markdown",
   "id": "reduced-advertising",
   "metadata": {},
   "source": [
    "### Assess the water us efficiency of different SP runs. "
   ]
  },
  {
   "cell_type": "markdown",
   "id": "documentary-stroke",
   "metadata": {},
   "source": [
    "### Concatenate a year of output files to speed things up. "
   ]
  },
  {
   "cell_type": "code",
   "execution_count": 1,
   "id": "radical-gathering",
   "metadata": {},
   "outputs": [],
   "source": [
    "import os\n",
    "import netCDF4 as nc4\n",
    "import sys\n",
    "import os\n",
    "import shutil\n",
    "\n",
    "import numpy as np\n",
    "import warnings\n",
    "import xarray as xr\n",
    "from matplotlib import pyplot as plt\n",
    "import datetime\n",
    "import os.path\n",
    "import xesmf as xe\n",
    "\n",
    "from multiprocessing.pool import ThreadPool\n",
    "import dask\n",
    "dask.config.set(scheduler='single-threaded')\n",
    "\n",
    "import warnings\n",
    "warnings.filterwarnings('ignore')"
   ]
  },
  {
   "cell_type": "code",
   "execution_count": 2,
   "id": "novel-sauce",
   "metadata": {},
   "outputs": [
    {
     "name": "stdout",
     "output_type": "stream",
     "text": [
      "1\n",
      "1\n"
     ]
    }
   ],
   "source": [
    "%%bash -s \n",
    "\n",
    "echo $OMP_NUM_THREADS\n",
    "\n",
    "echo $OMP_NUM_THREADS"
   ]
  },
  {
   "cell_type": "code",
   "execution_count": 3,
   "id": "capable-grade",
   "metadata": {
    "scrolled": true,
    "tags": []
   },
   "outputs": [
    {
     "name": "stdout",
     "output_type": "stream",
     "text": [
      "['nov_PR', 'current PR +nploop']\n"
     ]
    }
   ],
   "source": [
    "runs = ['seb_CLM5-SP-noluna_nodl_BB_noPHS_vcm50','seb_CLM5-FATES-smo_vcm50_cl1']\n",
    "runs = ['CLM5-SP-noluna_nodl_BB_noPHS_vcm50_opt_nocrop','seb_CLM5-FATES-smo_vcm50_opt_nocrop']\n",
    "#runs = ['CLM5-SP-noluna_nodl_BB_noPHS_vcm50_opt_nocrop_jmax_noaccl_noSAI','seb_CLM5-FATES-smo_vcm50_opt_nocrop_noSAI']\n",
    "fates=[0,1]\n",
    "ncases=2\n",
    "\n",
    "fg=28\n",
    "\n",
    "if(fg==-6):\n",
    "        runs = ['clm5-fates_snowcan_cont','clm5-fates_snowcan_test']\n",
    "        runlabel=['cont','cansnow']\n",
    "        fates=[1,1]   \n",
    "if(fg==-5):\n",
    "        runs = ['sai_errocheck3','sai_errocheck1']\n",
    "        runlabel=['saierror3','saierro4']\n",
    "        fates=[1,1]\n",
    "if(fg==-4):\n",
    "        runs = ['sai_revert1','sai_revert2']\n",
    "        runlabel=['sai_opt(2)','sai gpp(2)']\n",
    "        fates=[1,1]\n",
    "if(fg==-3):\n",
    "        runs = ['clm5-fates_SAI_main','sai_revert1']\n",
    "        runlabel=['main','sai bugfix']\n",
    "        fates=[1,1]\n",
    "                \n",
    "if(fg==-2):\n",
    "        runs = ['clm5-fates_SAI_main','clm5-fates_SAI_leafprop']\n",
    "        runlabel=['main','SAIbugfix']\n",
    "        fates=[1,1]\n",
    "if(fg==-1):\n",
    "        runs = ['seb_CLM5-FATES-def','seb_27may_CLMFATESSP_IFPcheck']\n",
    "        runs = ['seb_CLM5-FATES-def','FATESSP_IFP_issue_test2']\n",
    "        runlabel=['FATES-SP:default','CLM5-FATES-2june_IFP']\n",
    "        fates=[1,1]\n",
    "if(fg==0):\n",
    "        runs = ['seb_CLM5-SP_def','seb_CLM5-FATES-def']\n",
    "        runlabel=['CLM5SP:default','FATES-SP:default']\n",
    "if(fg==1):\n",
    "        runs = ['seb_CLM5-SP-noluna_nodl_BB_noPHS_vcm50','seb_CLM5-FATES-smo_vcm50_cl1']\n",
    "        runlabel=['CLM5SP:vcm50','FATES-SP:vcm50']\n",
    "if(fg==2):\n",
    "    runs = ['CLM5-SP-noluna_nodl_BB_noPHS_vcm50_opt','seb_CLM5-FATES-smo_vcm50_opt']\n",
    "    runlabel=['CLM5SP:opt','FATES-SP:opt']\n",
    "if(fg==3):\n",
    "    runs = ['CLM5-SP-noluna_nodl_BB_noPHS_vcm50_opt_nocrop','seb_CLM5-FATES-smo_vcm50_opt_nocrop']\n",
    "    runlabel=['CLM5SP:nocrop','FATES-SP:nocrop']\n",
    "if(fg==4):\n",
    "    runs = ['CLM5-SP-noluna_nodl_BB_noPHS_vcm50_opt_nocrop_jmax_noaccl_noSAI','seb_CLM5-FATES-smo_vcm50_opt_nocrop_noSAI']\n",
    "    runlabel=['CLM5SP:noSAI','FATES-SP:noSAI']\n",
    "if(fg==4.5):\n",
    "    runs = ['seb_CLM5-FATES-smo_vcm50_opt_nocrop_noSAI_dlai_rad','seb_CLM5-FATES-smoW_vcm50_opt_nocrop_noSAI_dlai_rad']\n",
    "    runlabel=['smoR','smoW']\n",
    "    fates=[1,1]\n",
    "if(fg==5): \n",
    "    runs = ['CLM5-SP-noluna_nodl_BB_noPHS_vcm50_opt_nocrop_jmax_noaccl_noSAI','seb_CLM5-FATES-smo_vcm50_opt_nocrop_noSAI_dlai_rad']\n",
    "    runlabel=['CLM5SP:noSAI','FATES-SP:dLAI0.2']\n",
    "if(fg == 6):\n",
    "    runs = ['CLM5-SP-noluna_nodl_BB_noPHS_vcm50_opt_nocrop_jmax_noaccl_noSAI','seb_CLM5-FATES-smo_vcm50_opt_nocrop_noSAI_dlai_elaigs']\n",
    "    runlabel=['CLM5SP:noSAI','FATES-SP:elai_gs']\n",
    "if(fg == 7):\n",
    "    runs = ['CLM5-SP-noluna_nodl_BB_noPHS_vcm50_opt_nocrop_jmax_noaccl_noSAI','seb_CLM5-FATES-smo_vcm50_opt_nocrop_noSAI_dlai_snow']\n",
    "    runlabel=['CLM5SP:noSAI','FATES-SP:snow']  \n",
    "if(fg == 8):\n",
    "    runs = ['CLM5-SP-noluna_nodl_BB_noPHS_vcm50_opt_nocrop_jmax_noaccl_noSAI','seb_CLM5-FATES-smo_vcm50_opt_nocrop_noSAI_dlai_rad']\n",
    "    runlabel=['CLM5SP:noSAI','FATES-SP:rad']   \n",
    "if(fg == 9): #impact of new sai bugfix\n",
    "    runs = ['seb_CLM5-FATES-smo_vcm50_opt_nocrop_noSAI_dlai_rad','seb_CLM5-FATES-smo_vcm50_opt_nocrop_noSAI_dlai_rad_sai_bugfix']\n",
    "    runlabel=['FATES-SP:rad','CLM5SP:saibugfix']\n",
    "if(fg == 10): #impact of altered smoothing\n",
    "    runs = ['seb_CLM5-FATES-smo_vcm50_opt_nocrop_noSAI_dlai_rad_sai_bugfix','seb_CLM5-FATES-smo_vcm50_opt_nocrop_noSAI_dlai_rad_sai_bugfix_smo2']\n",
    "    runlabel=['FATES_SP:saibugfix','FATES_SP_smo2']\n",
    "    fates=[1,1]\n",
    "if(fg == 11):\n",
    "    runs = ['CLM5-SP-noluna_nodl_BB_noPHS_vcm50_opt_nocrop_jmax_noaccl_noSAI','seb_CLM5-FATES-smo_vcm50_opt_nocrop_noSAI_dlai_rad_sai_bugfix_smo2']\n",
    "    runlabel=['CLM5SP:noSAI','FATES-SP:smo2']\n",
    "if(fg == 12): #impact of altered smoothing\n",
    "    runs = ['seb_CLM5-FATES-smo2','seb_CLM5-FATES-smo3']\n",
    "    runlabel=['tcj: 0.98,0.8. tip:0.97','tcj: 0.98,0.8. tip:0.95']\n",
    "    fates=[1,1]\n",
    "if(fg == 13): #impact of altered smoothing\n",
    "    runs = ['seb_CLM5-FATES-def','seb_CLM5-FATES-smo']\n",
    "    runlabel=['tcj: 0.999,0.999. tip:0.999','tcj: 0.8,0.98. tip:0.95']\n",
    "    fates=[1,1]\n",
    "if(fg == 14): #impact of theta_ip = 0.98\n",
    "    runs = ['seb_CLM5-FATES-smo7','seb_CLM5-FATES-smo2']\n",
    "    runlabel=['tcj: 0.99,0.999. tip:0.999','tcj: 0.999,0.99. tip:0.98']\n",
    "    fates=[1,1]\n",
    "if(fg == 15): #impact of tcj(0 and 1)\n",
    "    runs = ['seb_CLM5-FATES-smo7','seb_CLM5-FATES-smo3']\n",
    "    runlabel=['tcj: 0.999,0.999. tip:0.999','tcj: 0.999,0.98. tip:0.999']\n",
    "    fates=[1,1]\n",
    "if(fg == 16): #impact of tcj(1)\n",
    "    runs = ['seb_CLM5-FATES-smo7','seb_CLM5-FATES-smo4']\n",
    "    runlabel=['tcj: 0.999,0.999. tip:0.999','tcj:  0.98 0.98  tip; 0.98']\n",
    "    fates=[1,1]\n",
    "if(fg == 17): #impact of tcj(0)\n",
    "    runs = ['seb_CLM5-FATES-smo7','seb_CLM5-FATES-smo5']\n",
    "    runlabel=['tcj: 0.98,0.8. tip:0.999','tcj: 0.999,0.8. tip:0.999']\n",
    "    fates=[1,1]\n",
    "if(fg == 18): #impact of tcj(0)\n",
    "    runs = ['seb_CLM5-FATES-def','seb_CLM5-FATES-smo6']\n",
    "    runlabel=['tcj: 0.999,0.999. tip:0.999','tcj: 0.98,0.999. tip:0.9999']\n",
    "    fates=[1,1]\n",
    "if(fg == 19): #check default run gives def answers. \n",
    "    runs = ['seb_CLM5-FATES-smo7','seb_CLM5-FATES-smo4']\n",
    "    runlabel=['tcj: 0.999,0.999. tip:0.999','tcj: 0.99,0.999. tip:0.9999']\n",
    "    fates=[1,1]\n",
    "    \n",
    "if(fg==20):\n",
    "    runs = ['seb_CLM5-FATES-def','greg_sp_test1']\n",
    "    runlabel=['def','greg_sp_test1']\n",
    "    fates=[1,1]\n",
    "if(fg==21):\n",
    "    runs = ['seb_CLM5-FATES-def','greg_sp_test2']\n",
    "    runlabel=['def','greg_sp_test4']\n",
    "    fates=[1,1]  \n",
    "if(fg==22):\n",
    "    runs = ['seb_CLM5-SPfates-def_rewindtest0','greg_sp_test4']\n",
    "    runlabel=['nov_PR','current_PR']\n",
    "    fates=[1,1]    \n",
    "if(fg==23):\n",
    "    runs = ['seb_CLM5-SPfates-def_rewindtest0','greg_sp_test_nosai']\n",
    "    runlabel=['nov_PR','current_PR no SAI']\n",
    "    fates=[1,1]  \n",
    "if(fg==24):\n",
    "    runs = ['seb_CLM5-SPfates-def_rewindtest0','SPtag_24aug21_test1']\n",
    "    runlabel=['nov_PR','current_PR no SAI']\n",
    "    fates=[1,1]\n",
    "if(fg==25):\n",
    "    runs = ['SPtag_24aug21_TLAI5','SPtag_24aug21_test1']\n",
    "    runlabel=['tlai=5','current_PR']\n",
    "    fates=[1,1]  \n",
    "if(fg==26):\n",
    "    runs = ['SPtag_24aug21_TLAI5_HTOP20','SPtag_24aug21_test1']\n",
    "    runlabel=['tlai=5 HTOP=20','current_PR']\n",
    "    fates=[1,1]     \n",
    "if(fg==27):\n",
    "    runs = ['gregtest_sep2_CLM5-SP_def','seb_CLM5-SP_def']\n",
    "    runlabel=['tlai=5 HTOP=20','current_PR']\n",
    "    fates=[0,0] \n",
    "     \n",
    "if(fg==28):\n",
    "    runs = ['seb_CLM5-SPfates-def_rewindtest0','greg_sp_test_sep2_ws']\n",
    "    runlabel=['nov_PR','current PR +nploop']\n",
    "    fates=[1,1]      \n",
    "    \n",
    "if(fg==29):\n",
    "    runs = ['greg_sp_test_sep2','greg_sp_test_sep2_ws']\n",
    "    runlabel=['current PR','current PR +nploop']\n",
    "    fates=[1,1]   \n",
    "    \n",
    "    print(runs)\n",
    "print(runlabel)"
   ]
  },
  {
   "cell_type": "markdown",
   "id": "romance-convertible",
   "metadata": {},
   "source": [
    "### Figure settings"
   ]
  },
  {
   "cell_type": "code",
   "execution_count": 4,
   "id": "parental-persian",
   "metadata": {},
   "outputs": [],
   "source": [
    "figh=16\n",
    "figw=10\n",
    "nc=2\n",
    "nr=2\n",
    "absdiff=0\n",
    "tfonts=14\n",
    "errCMAP='RdYlBu'\n",
    "derrCMAP='PuOr'\n",
    "mapCMAP='viridis'\n",
    "tfont=18"
   ]
  },
  {
   "cell_type": "code",
   "execution_count": null,
   "id": "civilian-potter",
   "metadata": {
    "scrolled": true,
    "tags": []
   },
   "outputs": [
    {
     "name": "stdout",
     "output_type": "stream",
     "text": [
      "0\n",
      "/glade/scratch/rfisher/archive/seb_CLM5-SPfates-def_rewindtest0/lnd/hist/\n",
      "/glade/scratch/rfisher/archive/seb_CLM5-SPfates-def_rewindtest0/lnd/hist/seb_CLM5-SPfates-def_rewindtest0.clm2.h0.2001-12.nc\n",
      "rt /glade/scratch/rfisher/archive/seb_CLM5-SPfates-def_rewindtest0/lnd/hist/seb_CLM5-SPfates-def_rewindtest0.clm2.h0.2001\n",
      "1\n",
      "/glade/scratch/rfisher/greg_sp_test_sep2_ws/run/\n",
      "/glade/scratch/rfisher/greg_sp_test_sep2_ws/run/greg_sp_test_sep2_ws.clm2.h0.2001-12.nc\n",
      "rt /glade/scratch/rfisher/greg_sp_test_sep2_ws/run/greg_sp_test_sep2_ws.clm2.h0.2001\n"
     ]
    }
   ],
   "source": [
    "# Concatenature years in question using python. \n",
    "\n",
    "fig = plt.figure()\n",
    "plt.rcParams['figure.figsize'] = [16,16]\n",
    "fig.subplots_adjust(hspace=0.4, wspace=0.1) \n",
    "    \n",
    "doanalysis=1\n",
    "ychoose = 2001\n",
    "\n",
    "output='/glade/scratch/rfisher/'\n",
    "yr='.clm2.h0.'\n",
    "dQVEGT=[]\n",
    "dTLAI=[]\n",
    "dGPP=[]\n",
    "dET=[]\n",
    "dLH=[]\n",
    "dFSR=[]\n",
    "dLNC=[]\n",
    "dSABV=[]\n",
    "dSABG=[]\n",
    "dESAI=[]\n",
    "dTSAI=[]\n",
    "dFCEV=[]\n",
    "dFSDS=[]\n",
    "dFCTR=[]\n",
    "dQVEGE=[]\n",
    "dQVEGT=[]\n",
    "dSH=[]\n",
    "dTV=[]\n",
    "dlue=[]\n",
    "dwue=[]\n",
    "dLHSH=[]\n",
    "dHTOP=[]\n",
    "dRH2M=[]\n",
    "dGS=[]\n",
    "dELAI=[]\n",
    "dNPP=[]\n",
    "dTOTRAD=[]\n",
    "dERR=[]\n",
    "dBIOMASS=[]\n",
    "dSNOW=[]\n",
    "dAREAPLANT=[]\n",
    "conv1=(3600*24)*12/(10**6) #umol/m2/s to gC/m2/day GPP\n",
    "conv2=3600*24 #gC/m2/s/ to gC/m2/day FPSN\n",
    "conv3= 10000 / (1000000) #gC m-2  to MgC ha-1\n",
    "\n",
    "if doanalysis ==1:\n",
    "    vs=range(0,ncases) \n",
    "    files=['li']*(ncases+1)\n",
    "    count=1\n",
    "    for i in vs:\n",
    "        print(i)\n",
    "        run=runs[i]\n",
    "        arc = output + 'archive/' + run + '/lnd/hist/'\n",
    "        f2= arc +str(ychoose)+'combined.nc'\n",
    "        if(os.path.isdir(arc)):\n",
    "            arc = arc\n",
    "        else:\n",
    "            arc = output + run + '/run/'\n",
    "        #if(i==1):\n",
    "           # arc = output + run + '/run'\n",
    "        print(arc)\n",
    "        fileout = arc +str(ychoose)+'combined.nc'\n",
    "        rt=arc +run+yr+str(ychoose)+'-12.nc'\n",
    "        print(rt)\n",
    "        if(os.path.isfile(fileout)):\n",
    "            rt=arc +run+yr+str(ychoose)\n",
    "            rt=arc +run+yr+str(ychoose)\n",
    "            files[i]=rt\n",
    "            print(run)\n",
    "            ds1 = xr.open_mfdataset(rt+'-0*', decode_times=False)       \n",
    "        else:\n",
    "            rt=arc +run+yr+str(ychoose)\n",
    "            files[i]=rt\n",
    "            print('rt',rt)\n",
    "            ds1 = xr.open_mfdataset(rt+'-0*', decode_times=False)\n",
    "            \n",
    "        dTLAI.append(ds1.TLAI) \n",
    "        dET.append(np.multiply(ds1.QFLX_EVAP_TOT,conv2)) \n",
    "        dLNC.append(np.multiply(ds1.LNC,1)) \n",
    "        dELAI.append(ds1.ELAI)\n",
    "        dFSR.append(np.multiply(ds1.FSR,1)) \n",
    "        dSABV.append(np.multiply(ds1.SABV,1)) \n",
    "        dFSDS.append(np.multiply(ds1.FSDS,1)) \n",
    "        dSABG.append(np.multiply(ds1.SABG,1)) \n",
    "        dTSAI.append(np.multiply(ds1.TSAI,1)) \n",
    "        dFCEV.append(np.multiply(ds1.FCEV,1))\n",
    "        dFCTR.append(np.multiply(ds1.FCTR,1))\n",
    "        dQVEGE.append(np.multiply(ds1.QVEGE,conv2))  \n",
    "        dQVEGT.append(np.multiply(ds1.QVEGT,conv2))\n",
    "        dTV.append(np.multiply(ds1.TV,1))\n",
    "        dSH.append(np.multiply(ds1.FSH,1))\n",
    "        dLHSH.append(np.add(ds1.FSH,ds1.EFLX_LH_TOT ))\n",
    "        dLH.append(ds1.EFLX_LH_TOT)   \n",
    "        dESAI.append(ds1.ESAI) \n",
    "       # dHTOP.append(ds1.HTOP)\n",
    "        dRH2M.append(ds1.RH2M)\n",
    "        dTOTRAD.append(ds1.FSR+ds1.SABV+ds1.SABG)\n",
    "\n",
    "       # dERR.append(np.multiply(ds1.C_LBLAYER,ds1.FSDS))\n",
    "\n",
    "        dSNOW.append(np.multiply(ds1.SNOFSRVD,1))\n",
    "        if(fates[i]==0):\n",
    "\n",
    "            dGPP.append(np.multiply(ds1.FPSN,conv1))\n",
    "            ##dGS.append(np.divide(np.mean(dsF.C_STOMATA ,0),(np.mean(dsF.C_STOMATA ,0)+np.mean(dsF.C_LBLAYER ,0))))\n",
    "            dsC=ds1\n",
    "        else:\n",
    "            dBIOMASS.append(np.multiply(ds1.ED_biomass,conv3))\n",
    "            dGPP.append(np.multiply(ds1.GPP,conv2))\n",
    "            dAREAPLANT.append(ds1.AREA_PLANT)\n",
    "            #dGS.append(np.multiply(ds1.C_STOMATA ,0))\n",
    "            dsF=ds1\n",
    "        dlue.append(dGPP[i]/ds1.SABV)  \n",
    "        \n",
    "        dwue.append(dGPP[i]/np.multiply(ds1.QFLX_EVAP_TOT,conv2))\n",
    "        if(i==0):\n",
    "            ds0=ds1\n",
    "\n",
    "print('end')"
   ]
  },
  {
   "cell_type": "code",
   "execution_count": null,
   "id": "1cc0d21c-bd46-4a28-aab5-75d7d6b57056",
   "metadata": {},
   "outputs": [],
   "source": [
    "np.mean(ds0.BTRAN,0).plot()"
   ]
  },
  {
   "cell_type": "code",
   "execution_count": null,
   "id": "8154b6e3-0c02-4379-8ce0-06e075027c8f",
   "metadata": {},
   "outputs": [],
   "source": [
    "fsurf='/glade/p/cesmdata/cseg/inputdata/lnd/clm2/surfdata_map/release-clm5.0.18/surfdata_4x5_hist_16pfts_Irrig_CMIP6_simyr2000_c190214.nc'\n",
    "fsd=xr.open_dataset(fsurf, decode_times=False)\n",
    "#np.mean(fsd.MONTHLY_HEIGHT_TOP,0).plot(x=\"lsmlon\", y=\"lsmlat\", col=\"lsmpft\", col_wrap=3)\n"
   ]
  },
  {
   "cell_type": "code",
   "execution_count": null,
   "id": "312ea238-0578-4bb5-930e-c72b86be8bdb",
   "metadata": {},
   "outputs": [],
   "source": [
    "#fsd.PCT_NAT_PFT.plot(x=\"lsmlon\", y=\"lsmlat\", col=\"natpft\", col_wrap=3)\n",
    "#fsd.PCT_NAT_PFT"
   ]
  },
  {
   "cell_type": "code",
   "execution_count": null,
   "id": "3225419b-8193-43c2-b30a-76ad9b434bad",
   "metadata": {},
   "outputs": [],
   "source": [
    "amHTOP=np.mean(fsd.MONTHLY_HEIGHT_TOP,0)\n",
    "#amHTOP.plot(x=\"lsmlon\", y=\"lsmlat\", col=\"lsmpft\", col_wrap=3)"
   ]
  },
  {
   "cell_type": "code",
   "execution_count": null,
   "id": "edca6519-9a2a-45b6-a6ad-e38c0265973b",
   "metadata": {},
   "outputs": [],
   "source": [
    "awheight=np.multiply(np.divide(fsd.PCT_NAT_PFT,100),amHTOP)"
   ]
  },
  {
   "cell_type": "code",
   "execution_count": null,
   "id": "e1785766-7f49-490a-a2a0-068a2ecd8956",
   "metadata": {},
   "outputs": [],
   "source": [
    "fig = plt.figure()\n",
    "pfts = range(1,13)\n",
    "l1=ds0.PFTleafbiomass\n",
    "l0=ds0.PFTleafbiomass\n",
    "for p in pfts:\n",
    "    ax = fig.add_subplot(4, 4, p)\n",
    "    pft0=l1.isel(fates_levpft=p-1)\n",
    "    pft0_lat=np.mean(pft0,1)\n",
    "    pft0_lat\n",
    "    pft0_lat.plot()\n",
    "\n",
    "    #pft1=l0.isel(fates_levpft=p-1)\n",
    "    #pft1_lat=np.mean(pft1,1)\n",
    "    #pft1_lat\n",
    "    #pft1_lat.plot()\n"
   ]
  },
  {
   "cell_type": "code",
   "execution_count": null,
   "id": "06ef57c2-0f7c-4242-ab33-1cd575e1696f",
   "metadata": {},
   "outputs": [],
   "source": [
    "fig = plt.figure()\n",
    "pfts = range(1,13)\n",
    "l0=ds0.PFTleafbiomass\n",
    "l1=ds1.PFTleafbiomass\n",
    "\n",
    "for p in pfts:\n",
    "    ax = fig.add_subplot(4, 4, p)\n",
    "    pft0=l0.isel(fates_levpft=p-1)\n",
    "    pft0_lat=np.mean(pft0,1)\n",
    "    pft0_lat_lon=np.mean(pft0_lat,1)\n",
    "    pft0_lat_lon.plot()\n",
    "    \n",
    "    pft1=l1.isel(fates_levpft=p-1)\n",
    "    pft1_lat=np.mean(pft1,1)\n",
    "    pft1_lat_lon=np.mean(pft1_lat,1)\n",
    "    pft1_lat_lon.plot()\n",
    "    \n",
    "fnmfig='figs/SP_2rad_'+'lai_ts_'+'_'+str(fg)+'.png'\n",
    "plt.savefig(fnmfig)"
   ]
  },
  {
   "cell_type": "code",
   "execution_count": null,
   "id": "cd830163-f60e-46a2-9673-e0754e2bdf0a",
   "metadata": {},
   "outputs": [],
   "source": [
    "fig = plt.figure()\n",
    "pfts = range(1,13)\n",
    "l1=ds1.PFTbiomass-ds1.PFTleafbiomass\n",
    "l0=ds0.PFTbiomass-ds0.PFTleafbiomass\n",
    "\n",
    "for p in pfts:\n",
    "    ax = fig.add_subplot(4, 4, p)\n",
    "    pft0=l0.isel(fates_levpft=p-1)\n",
    "    pft0_lat=np.mean(pft0,1)\n",
    "    pft0_lat_lon=np.mean(pft0_lat,1)\n",
    "    pft0_lat_lon.plot()\n",
    "    \n",
    "    pft1=l1.isel(fates_levpft=p-1)\n",
    "    pft1_lat=np.mean(pft1,1)\n",
    "    pft1_lat_lon=np.mean(pft1_lat,1)\n",
    "    pft1_lat_lon.plot()"
   ]
  },
  {
   "cell_type": "code",
   "execution_count": null,
   "id": "35ca420a-1202-4f4e-9402-1c1179f47452",
   "metadata": {},
   "outputs": [],
   "source": [
    "fig = plt.figure()\n",
    "l1=np.max(ds0.PFTleafbiomass,0)\n",
    "l2=np.max(ds1.PFTleafbiomass,0)\n",
    "pfts = range(1,13)\n",
    "for p in pfts:\n",
    "   ax = fig.add_subplot(4, 4, p)\n",
    "   pft0=l1.isel(fates_levpft=p-1)\n",
    "   pft1=l2.isel(fates_levpft=p-1)   \n",
    "   diff=pft1-pft0\n",
    "   diff.plot(cmap='RdYlBu')\n",
    "   ax.get_xaxis().set_visible(False)\n",
    "   ax.get_yaxis().set_visible(False)\n",
    " \n",
    "#    fates_pftname =\n",
    "# 1 \"broadleaf_evergreen_tropical_tree          \",\n",
    "# 2 \"needleleaf_evergreen_extratrop_tree        \", X\n",
    "# 3 \"needleleaf_colddecid_extratrop_tree       \",\n",
    "# 4 \"broadleaf_evergreen_extratrop_tree         \",\n",
    "# 5 \"broadleaf_hydrodecid_tropical_tree         \",x\n",
    "# 6 \"broadleaf_colddecid_extratrop_tree        \", X\n",
    "# 7 \"broadleaf_evergreen_extratrop_shrub        \",\n",
    "# 8 \"broadleaf_hydrodecid_extratrop_shrub       \",\n",
    "# 9 \"broadleaf_colddecid_extratrop_shrub       \",\n",
    "# 10 \"arctic_c3_grass                            \",\n",
    "# 11 \"cool_c3_grass                              \",\n",
    "# 12  \"c4_grass"
   ]
  },
  {
   "cell_type": "code",
   "execution_count": null,
   "id": "d9b41b89-0842-4301-8ceb-ee46d9b7f286",
   "metadata": {},
   "outputs": [],
   "source": [
    "fig = plt.figure()\n",
    "pfts = range(1,13)\n",
    "l1=ds1.ELAI\n",
    "l0=ds0.ELAI\n",
    "\n",
    "pft0_lat=np.mean(l0,1)\n",
    "pft0_lat_lon=np.mean(pft0_lat,1)\n",
    "pft0_lat_lon.plot()\n",
    "    \n",
    "pft1_lat=np.mean(l1,1)\n",
    "pft1_lat_lon=np.mean(pft1_lat,1)\n",
    "pft1_lat_lon.plot()"
   ]
  },
  {
   "cell_type": "code",
   "execution_count": null,
   "id": "a4f451ca-cc3b-49c9-9f16-3e4a6903499a",
   "metadata": {},
   "outputs": [],
   "source": [
    "fig = plt.figure()\n",
    "b1=np.mean(ds0.PFTnindivs,0)\n",
    "b2=np.mean(ds1.PFTnindivs,0)\n",
    "pfts = range(1,13)\n",
    "for p in pfts:\n",
    "   ax = fig.add_subplot(4, 4, p)\n",
    "   pft0=b1.isel(fates_levpft=p-1)\n",
    "   pft1=b2.isel(fates_levpft=p-1)\n",
    "   diff=(pft1-pft0)/pft0\n",
    "   diff.plot(cmap='RdYlBu',vmin=-5,vmax=5)\n",
    "   ax.get_xaxis().set_visible(False)\n",
    "   ax.get_yaxis().set_visible(False)"
   ]
  },
  {
   "cell_type": "code",
   "execution_count": null,
   "id": "4fca7316-643b-4f13-a751-e6463056f66d",
   "metadata": {},
   "outputs": [],
   "source": [
    "fig = plt.figure()\n",
    "c0=np.mean(ds1.PFTcrownarea,0)\n",
    "c1=np.multiply(np.mean(ds1.PFTcrownarea,0),1)\n",
    "pfts = range(1,13)\n",
    "for p in pfts:\n",
    "   ax = fig.add_subplot(4, 4, p)\n",
    "   pft0=c0.isel(fates_levpft=p-1)\n",
    "   pft1=c1.isel(fates_levpft=p-1)   \n",
    "   diff=(pft1-pft0)\n",
    "   diff.plot()\n",
    "   ax.get_xaxis().set_visible(False)\n",
    "   ax.get_yaxis().set_visible(False)"
   ]
  },
  {
   "cell_type": "code",
   "execution_count": null,
   "id": "24e4ef03-2f00-4c87-9fbd-8a0ba7261e1b",
   "metadata": {},
   "outputs": [],
   "source": []
  },
  {
   "cell_type": "markdown",
   "id": "secret-jesus",
   "metadata": {
    "tags": []
   },
   "source": [
    "#### Plotting function"
   ]
  },
  {
   "cell_type": "code",
   "execution_count": null,
   "id": "95344f14-657a-46b8-b66a-94b6ac05c531",
   "metadata": {},
   "outputs": [],
   "source": [
    "def plot_fn(dinput, figh,figw,nc,nr,runlabel,vmd,vmx,var,varname,absdiff):\n",
    "    fig = plt.figure()\n",
    "    lfont=20\n",
    "    tfont=24\n",
    "    plt.rcParams['figure.figsize'] = [figh,figw] \n",
    "    for i,d in enumerate(dinput,start=0):\n",
    "        if(i<4):\n",
    "            print(i)\n",
    "            ax = fig.add_subplot(nr,nc, i+1)\n",
    "            im=np.mean(d,0).plot(vmin=0,vmax=vmx,add_colorbar=False)\n",
    "            ax.set_title(var+'_'+runlabel[i],fontsize=tfont)\n",
    "            ax.get_xaxis().set_visible(False)\n",
    "            ax.get_yaxis().set_visible(False)\n",
    "            cb = plt.colorbar(im, orientation=\"vertical\")\n",
    "            cb.set_label(label=varname, size=tfont, weight='bold')\n",
    "            cb.ax.tick_params(labelsize='large')\n",
    "        \n",
    "    ax3 = fig.add_subplot(nr,nc, 3)\n",
    "    if(absdiff==0):\n",
    "        diff=100*(np.mean(dinput[1],0)-np.mean(dinput[0],0))/np.mean(dinput[0],0)\n",
    "        lab='$\\Delta$ (%)'\n",
    "        titl=var+'_'+'(2-1)/1'\n",
    "    else:\n",
    "        diff=np.mean(dinput[1],0)-np.mean(dinput[0],0)\n",
    "        lab='$\\Delta$ (absolute)'\n",
    "        titl=var+'_'+'(2-1)'\n",
    "        \n",
    "    if(absdiff==0):\n",
    "        im = diff.plot(vmin=-100*vmd,vmax=100*vmd,add_colorbar=False,cmap='RdYlBu')   \n",
    "    else:\n",
    "        im = diff.plot(vmin=-vmd,vmax=vmd,add_colorbar=False,cmap='RdYlBu')\n",
    "    ax3.set_title(titl,fontsize=tfont)\n",
    "    ax3.get_xaxis().set_visible(False)\n",
    "    ax3.get_yaxis().set_visible(False)\n",
    "    cb = plt.colorbar(im, orientation=\"vertical\")    \n",
    "    cb.set_label(label=lab, size=lfont, weight='bold')\n",
    "    cb.ax.tick_params(labelsize='large')\n",
    "  \n",
    "    \n",
    "    fnmfig='figs/SP_2rad_'+var+'_'+str(fg)+'.png'\n",
    "    \n",
    "    \n",
    "    #print(fnmfig)\n",
    "    plt.savefig(fnmfig)"
   ]
  },
  {
   "cell_type": "markdown",
   "id": "5066d1f2-2536-47a8-834a-5d9eb9fd7fc5",
   "metadata": {
    "tags": []
   },
   "source": [
    "### BIOMASS plot"
   ]
  },
  {
   "cell_type": "code",
   "execution_count": null,
   "id": "1ff60c4b-af7f-4551-8bd7-ffef93640d5a",
   "metadata": {},
   "outputs": [],
   "source": [
    "print(conv3)\n",
    "plot_fn(dBIOMASS,figh,figw,nc,nr,runlabel,0.4,3,'Biomass','Biomass: MgC ha$^1$',1)"
   ]
  },
  {
   "cell_type": "markdown",
   "id": "1530ae87-4a90-47e9-a7ad-51e4bae534e1",
   "metadata": {},
   "source": [
    "### AREA PLANT plot"
   ]
  },
  {
   "cell_type": "code",
   "execution_count": null,
   "id": "2c325ed3-8662-4d36-be64-1930aaf9dbe2",
   "metadata": {},
   "outputs": [],
   "source": [
    "print(conv3)\n",
    "plot_fn(dAREAPLANT,figh,figw,nc,nr,runlabel,0.1,1,'AREA_PLANT','AREA_PLANT: m$^2$',0)"
   ]
  },
  {
   "cell_type": "code",
   "execution_count": null,
   "id": "297e52e6-ac74-45cf-b7b7-5611c0b0a312",
   "metadata": {},
   "outputs": [],
   "source": []
  },
  {
   "cell_type": "markdown",
   "id": "applied-manitoba",
   "metadata": {},
   "source": [
    "### ERROR plot"
   ]
  },
  {
   "cell_type": "code",
   "execution_count": null,
   "id": "d571e79a-0a30-4fc2-b41b-64c1894f367e",
   "metadata": {
    "tags": []
   },
   "outputs": [],
   "source": [
    "#plot_fn(dERR,figh,figw,nc,nr,runlabel,0.05,0.0000001,'ERR','ERROR',0)"
   ]
  },
  {
   "cell_type": "markdown",
   "id": "4bbe2882-4c7e-493c-b5c5-21118392c41e",
   "metadata": {},
   "source": [
    "### TOTRAD plot"
   ]
  },
  {
   "cell_type": "code",
   "execution_count": null,
   "id": "quick-camel",
   "metadata": {
    "tags": []
   },
   "outputs": [],
   "source": [
    "plot_fn(dTOTRAD,figh,figw,nc,nr,runlabel,0.1,200,'TOTRAD','TOTRAD',1)"
   ]
  },
  {
   "cell_type": "code",
   "execution_count": null,
   "id": "defensive-advancement",
   "metadata": {},
   "outputs": [],
   "source": []
  },
  {
   "cell_type": "markdown",
   "id": "surrounded-phase",
   "metadata": {},
   "source": [
    "### FCEV plot"
   ]
  },
  {
   "cell_type": "code",
   "execution_count": null,
   "id": "differential-economy",
   "metadata": {},
   "outputs": [],
   "source": [
    "#plot_fn(dFCEV,figh,figw,nc,nr,runlabel,10,40,'FCEV','Canopy evap Wm$^2$',1)"
   ]
  },
  {
   "cell_type": "code",
   "execution_count": null,
   "id": "7d92d0ec-64bf-4fe0-a203-4268a15aa2b8",
   "metadata": {},
   "outputs": [],
   "source": []
  },
  {
   "cell_type": "markdown",
   "id": "prescribed-nylon",
   "metadata": {},
   "source": [
    "### SNOW plot"
   ]
  },
  {
   "cell_type": "code",
   "execution_count": null,
   "id": "strong-johns",
   "metadata": {},
   "outputs": [],
   "source": [
    "#plot_fn(dSNOW,figw,nc,nr,runlabel,0.1,2,'SNOW','Snow Depth m',1)\n",
    "plot_fn(dSNOW,figh,figw,nc,nr,runlabel,2,100,'SNOW','Snow depth m',1)"
   ]
  },
  {
   "cell_type": "markdown",
   "id": "greek-brave",
   "metadata": {},
   "source": [
    "### FSDS plot"
   ]
  },
  {
   "cell_type": "code",
   "execution_count": null,
   "id": "8de2f376-b39a-4390-a943-ba2d93759cf0",
   "metadata": {},
   "outputs": [],
   "source": [
    "plot_fn(dFSDS,figh,figw,nc,nr,runlabel,0.01,300,'FSDS','FSDS Wm$^2$',absdiff)"
   ]
  },
  {
   "cell_type": "markdown",
   "id": "simple-mapping",
   "metadata": {},
   "source": [
    "### ET plot"
   ]
  },
  {
   "cell_type": "code",
   "execution_count": null,
   "id": "sudden-feelings",
   "metadata": {
    "scrolled": true,
    "tags": []
   },
   "outputs": [],
   "source": [
    "#plot_fn(dET,figh,figw,nc,nr,runlabel,0.1,5,'ET','ET mm day$^2$',absdiff)"
   ]
  },
  {
   "cell_type": "markdown",
   "id": "unnecessary-midwest",
   "metadata": {},
   "source": [
    "### QVEGE plot"
   ]
  },
  {
   "cell_type": "code",
   "execution_count": null,
   "id": "protecting-sperm",
   "metadata": {},
   "outputs": [],
   "source": [
    "#plot_fn(dQVEGE,figh,figw,nc,nr,runlabel,0.3,1.5,'QVEGE','Canopy evap mm day$^2$',absdiff)"
   ]
  },
  {
   "cell_type": "markdown",
   "id": "bearing-extent",
   "metadata": {},
   "source": [
    "### QVEGT plot"
   ]
  },
  {
   "cell_type": "code",
   "execution_count": null,
   "id": "sexual-trial",
   "metadata": {},
   "outputs": [],
   "source": [
    "#plot_fn(dQVEGT,figh,figw,nc,nr,runlabel,0.5,4,'QVEGT','Transpiration mm day$^2$',absdiff)"
   ]
  },
  {
   "cell_type": "markdown",
   "id": "d47d9f91-f99e-43ba-a62e-8486a86ec5a7",
   "metadata": {},
   "source": [
    "### FSR plot"
   ]
  },
  {
   "cell_type": "code",
   "execution_count": null,
   "id": "f8c09543-8b34-4964-b8f8-5c66a14638bb",
   "metadata": {},
   "outputs": [],
   "source": [
    "plot_fn(dFSR,figh,figw,nc,nr,runlabel,5,60,'FSR','Solar Refl: Wm$^2$',1)"
   ]
  },
  {
   "cell_type": "markdown",
   "id": "fluid-ready",
   "metadata": {},
   "source": [
    "### FGR plot"
   ]
  },
  {
   "cell_type": "code",
   "execution_count": null,
   "id": "coordinated-moisture",
   "metadata": {},
   "outputs": [],
   "source": [
    "plot_fn(dSABG,figh,figw,nc,nr,runlabel,3,150,'SABG','Solar Abs Gnd: Wm$^2$',1)"
   ]
  },
  {
   "cell_type": "markdown",
   "id": "fiscal-steering",
   "metadata": {
    "tags": []
   },
   "source": [
    "### SABV plot"
   ]
  },
  {
   "cell_type": "code",
   "execution_count": null,
   "id": "creative-greeting",
   "metadata": {},
   "outputs": [],
   "source": [
    "plot_fn(dSABV,figh,figw,nc,nr,runlabel,0.5,200,'SABV','SAbs Veg: Wm$^{-2}$',0)"
   ]
  },
  {
   "cell_type": "markdown",
   "id": "allied-commons",
   "metadata": {},
   "source": [
    "### LUE plot"
   ]
  },
  {
   "cell_type": "code",
   "execution_count": null,
   "id": "loose-baltimore",
   "metadata": {
    "tags": []
   },
   "outputs": [],
   "source": [
    "plot_fn(dlue,figh,figw,nc,nr,runlabel,0.3,0.12,'LUE','LUE (GPP/SABV)',0)"
   ]
  },
  {
   "cell_type": "markdown",
   "id": "a88aed2b-4b6f-4d2e-886d-23aeffcd08eb",
   "metadata": {},
   "source": [
    "### HTOP plot"
   ]
  },
  {
   "cell_type": "code",
   "execution_count": null,
   "id": "b27db316-c8b4-4ebe-a8c6-bc5f22b673fb",
   "metadata": {
    "tags": []
   },
   "outputs": [],
   "source": [
    "#plot_fn(dHTOP,figh,figw,nc,nr,runlabel,0.3,20,'HTOP','HTOP',0)"
   ]
  },
  {
   "cell_type": "code",
   "execution_count": null,
   "id": "1acf3250-3a62-4bce-be71-2aa005fc5b8c",
   "metadata": {},
   "outputs": [],
   "source": [
    "fig = plt.figure()\n",
    "pfts = range(1,13)\n",
    "l1=ds1.HTOP\n",
    "l0=ds0.HTOP\n",
    "ax = fig.add_subplot(1, 2, 1)\n",
    "pft0_lat=np.mean(l0,1)\n",
    "pft0_lat_lon=np.mean(pft0_lat,1)\n",
    "pft0_lat.plot()\n",
    "\n",
    "ax = fig.add_subplot(1, 2, 2)   \n",
    "pft1_lat=np.mean(l1,1)\n",
    "pft1_lat_lon=np.mean(pft1_lat,1)\n",
    "pft1_lat.plot()"
   ]
  },
  {
   "cell_type": "code",
   "execution_count": null,
   "id": "military-gentleman",
   "metadata": {},
   "outputs": [],
   "source": [
    "plot_fn(dGPP,figh,figw,nc,nr,runlabel,8,9,'GPP','GPP: KgC m-2 d-2',1)"
   ]
  },
  {
   "cell_type": "markdown",
   "id": "korean-spirit",
   "metadata": {},
   "source": [
    "### NPP plot"
   ]
  },
  {
   "cell_type": "code",
   "execution_count": null,
   "id": "military-electron",
   "metadata": {},
   "outputs": [],
   "source": [
    "#plot_fn(dNPP,figh,figw,nc,nr,runlabel,0.2,5,'NPP','NPP: KgC m-2 d-2',0)"
   ]
  },
  {
   "cell_type": "code",
   "execution_count": null,
   "id": "58e8e0b0-f3fc-4f3b-b702-42c34e3f00de",
   "metadata": {},
   "outputs": [],
   "source": []
  },
  {
   "cell_type": "markdown",
   "id": "received-welding",
   "metadata": {},
   "source": [
    "### WUE plot"
   ]
  },
  {
   "cell_type": "code",
   "execution_count": null,
   "id": "transparent-dispute",
   "metadata": {},
   "outputs": [],
   "source": [
    "plot_fn(dwue,figh,figw,nc,nr,runlabel,1.8,4,'WUE','WUE (GPP/ET)',1)"
   ]
  },
  {
   "cell_type": "markdown",
   "id": "everyday-oasis",
   "metadata": {},
   "source": [
    "### TLAI plot"
   ]
  },
  {
   "cell_type": "code",
   "execution_count": null,
   "id": "spectacular-subscription",
   "metadata": {},
   "outputs": [],
   "source": [
    "plot_fn(dTLAI,figh,figw,nc,nr,runlabel,0.5,6,'TLAI','TLAI',0)"
   ]
  },
  {
   "cell_type": "markdown",
   "id": "1c627342-1558-44e0-844a-98b79314238a",
   "metadata": {
    "tags": []
   },
   "source": [
    "### ELAI plot"
   ]
  },
  {
   "cell_type": "code",
   "execution_count": null,
   "id": "0a753f7e-fdf8-4033-887b-7175a7eaa34e",
   "metadata": {
    "tags": []
   },
   "outputs": [],
   "source": [
    "plot_fn(dELAI,figh,figw,nc,nr,runlabel,0.5,6,'ELAI','ELAI',0)"
   ]
  },
  {
   "cell_type": "markdown",
   "id": "6008f0bc-7e7a-4dcc-b8ab-52ca75416cba",
   "metadata": {},
   "source": [
    "### ESAI plot"
   ]
  },
  {
   "cell_type": "code",
   "execution_count": null,
   "id": "8adaec82-9bc5-4b5f-81a0-fa8c06e98c26",
   "metadata": {},
   "outputs": [],
   "source": [
    "plot_fn(dESAI,figh,figw,nc,nr,runlabel,1,1.0,'ESAI','ESAI',1)"
   ]
  },
  {
   "cell_type": "markdown",
   "id": "presidential-blond",
   "metadata": {},
   "source": [
    "### TSAI plot"
   ]
  },
  {
   "cell_type": "code",
   "execution_count": null,
   "id": "instructional-henry",
   "metadata": {},
   "outputs": [],
   "source": [
    "plot_fn(dTSAI,figh,figw,nc,nr,runlabel,0.5,1.0,'TSAI','TSAI',0)"
   ]
  },
  {
   "cell_type": "markdown",
   "id": "numerous-possession",
   "metadata": {},
   "source": [
    "### SH plot"
   ]
  },
  {
   "cell_type": "code",
   "execution_count": null,
   "id": "verified-acrylic",
   "metadata": {},
   "outputs": [],
   "source": [
    "plot_fn(dSH,figh,figw,nc,nr,runlabel,5,60,'SH','SH: Wm$^{-2}$',1)"
   ]
  },
  {
   "cell_type": "markdown",
   "id": "functioning-circle",
   "metadata": {},
   "source": [
    "### TV plot"
   ]
  },
  {
   "cell_type": "code",
   "execution_count": null,
   "id": "competitive-longer",
   "metadata": {},
   "outputs": [],
   "source": [
    "plot_fn(dTV,figh,figw,nc,nr,runlabel,0.5,300,'TV','TV',1)"
   ]
  },
  {
   "cell_type": "markdown",
   "id": "baking-lloyd",
   "metadata": {},
   "source": [
    "### LH+SH"
   ]
  },
  {
   "cell_type": "code",
   "execution_count": null,
   "id": "modular-timer",
   "metadata": {},
   "outputs": [],
   "source": [
    "plot_fn(dLHSH,figh,figw,nc,nr,runlabel,5,140,'LH+SH','LH+SH: Wm$^{-2}$',1)"
   ]
  },
  {
   "cell_type": "markdown",
   "id": "healthy-namibia",
   "metadata": {},
   "source": [
    "### LH"
   ]
  },
  {
   "cell_type": "code",
   "execution_count": null,
   "id": "sensitive-incidence",
   "metadata": {},
   "outputs": [],
   "source": [
    "plot_fn(dLH,figh,figw,nc,nr,runlabel,5,120,'LH','LH: Wm$^{-2}$',1)"
   ]
  },
  {
   "cell_type": "code",
   "execution_count": null,
   "id": "7b949b45-2145-4eed-82ee-a4220706ff44",
   "metadata": {},
   "outputs": [],
   "source": [
    "plot_fn(dELAI,figh,figw,nc,nr,runlabel,1,6,'ELAI','ELAI:  m$^{2}$ m$^{-2}$',1)"
   ]
  },
  {
   "cell_type": "markdown",
   "id": "2fe507e6-ec44-4ddc-b38f-f20f8165e0a1",
   "metadata": {},
   "source": [
    "### LH"
   ]
  },
  {
   "cell_type": "markdown",
   "id": "forbidden-recycling",
   "metadata": {},
   "source": [
    "### Bowen Ratio"
   ]
  },
  {
   "cell_type": "code",
   "execution_count": null,
   "id": "french-solid",
   "metadata": {},
   "outputs": [],
   "source": [
    "dBR=[]\n",
    "for i,d in enumerate(dLH,start=0):\n",
    "    dBR.append(np.divide(d,(d+dSH[i])))\n",
    "plot_fn(dBR,figh,figw,nc,nr,runlabel,0.20,1,'BR','LH/(LH+SH)',0)"
   ]
  },
  {
   "cell_type": "markdown",
   "id": "macro-playback",
   "metadata": {},
   "source": [
    "### Stomatal Conductance"
   ]
  },
  {
   "cell_type": "code",
   "execution_count": null,
   "id": "dangerous-gamma",
   "metadata": {},
   "outputs": [],
   "source": [
    "cratio=np.divide(np.mean(dsF.C_STOMATA ,0),(np.mean(dsF.C_STOMATA ,0)+np.mean(dsF.C_LBLAYER ,0)))\n",
    "#cratio.plot(vmin=0,vmax=0.1)\n"
   ]
  },
  {
   "cell_type": "code",
   "execution_count": null,
   "id": "arranged-textbook",
   "metadata": {},
   "outputs": [],
   "source": [
    "deff='/glade/scratch/rfisher/seb_CLM5-SP_def/run/seb_CLM5-SP_def.clm2.h0.2004-12.nc'\n",
    "dsdef=xr.open_dataset(deff, decode_times=False)  \n",
    "fracsunl=np.divide(dsdef.LAISUN,dsdef.LAISUN+dsdef.LAISHA)\n",
    "gscanopy=np.multiply(dsdef.GSSUN,fracsunl)+np.multiply(dsdef.GSSHA,1-fracsunl)\n",
    "gscanopy=np.divide(gscanopy,1000)\n",
    "gscanopy.plot(vmax=200)"
   ]
  },
  {
   "cell_type": "markdown",
   "id": "3d67a7af-f696-44f9-98dd-08fd208d6bc4",
   "metadata": {},
   "source": [
    "## SABV from ELAI"
   ]
  },
  {
   "cell_type": "code",
   "execution_count": null,
   "id": "following-renaissance",
   "metadata": {},
   "outputs": [],
   "source": [
    "plt.scatter(ds0.ELAI,ds0.SABV)\n",
    "plt.scatter(ds1.ELAI,ds1.SABV)\n",
    "plt.ylabel(\"SABV\")\n",
    "plt.xlabel(\"ELAI\")\n",
    "fnmfig='figs/SP_2rad_'+'elai_vs_sabv'+'_'+str(fg)+'.png'\n",
    "plt.savefig(fnmfig)\n"
   ]
  },
  {
   "cell_type": "markdown",
   "id": "8e8e5194-c3c4-4a63-8208-daca880b22aa",
   "metadata": {},
   "source": [
    "## TLAI from bleaf"
   ]
  },
  {
   "cell_type": "code",
   "execution_count": null,
   "id": "6594d3b1-253c-47f5-ad74-1160f24cb02d",
   "metadata": {},
   "outputs": [],
   "source": [
    "plt.scatter(ds0.ED_bleaf,ds0.ELAI)\n",
    "plt.scatter(ds1.ED_bleaf,ds1.ELAI)\n",
    "fnmfig='figs/SP_2rad_'+'lai_vs_bleaf'+'_'+str(fg)+'.png'\n",
    "plt.savefig(fnmfig)"
   ]
  },
  {
   "cell_type": "code",
   "execution_count": null,
   "id": "7a30b4bc-5e8d-4902-8d0c-9ec8410d153e",
   "metadata": {},
   "outputs": [],
   "source": [
    "plt.scatter(ds0.SABV,ds0.GPP)\n",
    "plt.scatter(ds1.SABV,ds1.GPP)\n",
    "plt.ylim([ 0,0.0002])\n",
    "plt.xlabel(\"SABV\")\n",
    "plt.ylabel(\"GPP\")\n",
    "/8k\n"
   ]
  },
  {
   "cell_type": "markdown",
   "id": "07befe3d-0b7f-4f06-8695-edd42cbf0007",
   "metadata": {},
   "source": [
    "## GPP from SABV"
   ]
  },
  {
   "cell_type": "code",
   "execution_count": null,
   "id": "edb30549-4fdd-4f7b-bd9b-0817b07706c2",
   "metadata": {},
   "outputs": [],
   "source": [
    "plt.scatter(ds0.ELAI,ds0.GPP)\n",
    "plt.scatter(ds1.ELAI,ds1.GPP)\n",
    "plt.ylim([ 0,0.0002])\n",
    "plt.xlabel(\"ELAI\")\n",
    "plt.ylabel(\"GPP\")\n",
    "fnmfig='figs/SP_2rad_'+'elai_vs_gpp'+'_'+str(fg)+'.png'\n",
    "plt.savefig(fnmfig)"
   ]
  },
  {
   "cell_type": "markdown",
   "id": "stable-worst",
   "metadata": {},
   "source": [
    "##### "
   ]
  }
 ],
 "metadata": {
  "kernelspec": {
   "display_name": "Pangeo (Python 3.6)",
   "language": "python",
   "name": "pangeo-3.6"
  },
  "language_info": {
   "codemirror_mode": {
    "name": "ipython",
    "version": 3
   },
   "file_extension": ".py",
   "mimetype": "text/x-python",
   "name": "python",
   "nbconvert_exporter": "python",
   "pygments_lexer": "ipython3",
   "version": "3.6.7"
  }
 },
 "nbformat": 4,
 "nbformat_minor": 5
}
